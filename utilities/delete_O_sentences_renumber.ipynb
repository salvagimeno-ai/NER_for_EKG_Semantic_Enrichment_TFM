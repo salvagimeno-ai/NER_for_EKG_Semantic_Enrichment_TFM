{
 "cells": [
  {
   "cell_type": "code",
   "execution_count": null,
   "metadata": {},
   "outputs": [],
   "source": [
    "import pandas as pd\n",
    "import math\n",
    "import numpy as np"
   ]
  },
  {
   "cell_type": "code",
   "execution_count": 2,
   "metadata": {},
   "outputs": [
    {
     "data": {
      "text/html": [
       "<div>\n",
       "<style scoped>\n",
       "    .dataframe tbody tr th:only-of-type {\n",
       "        vertical-align: middle;\n",
       "    }\n",
       "\n",
       "    .dataframe tbody tr th {\n",
       "        vertical-align: top;\n",
       "    }\n",
       "\n",
       "    .dataframe thead th {\n",
       "        text-align: right;\n",
       "    }\n",
       "</style>\n",
       "<table border=\"1\" class=\"dataframe\">\n",
       "  <thead>\n",
       "    <tr style=\"text-align: right;\">\n",
       "      <th></th>\n",
       "      <th>ï»¿Sentence</th>\n",
       "      <th>Word</th>\n",
       "      <th>POS</th>\n",
       "      <th>Tag</th>\n",
       "    </tr>\n",
       "  </thead>\n",
       "  <tbody>\n",
       "    <tr>\n",
       "      <th>0</th>\n",
       "      <td>Sentence: 1_1</td>\n",
       "      <td>for</td>\n",
       "      <td>IN</td>\n",
       "      <td>O</td>\n",
       "    </tr>\n",
       "    <tr>\n",
       "      <th>1</th>\n",
       "      <td>Sentence: 1_1</td>\n",
       "      <td>example</td>\n",
       "      <td>NN</td>\n",
       "      <td>O</td>\n",
       "    </tr>\n",
       "    <tr>\n",
       "      <th>2</th>\n",
       "      <td>Sentence: 1_1</td>\n",
       "      <td>d</td>\n",
       "      <td>NNP</td>\n",
       "      <td>O</td>\n",
       "    </tr>\n",
       "    <tr>\n",
       "      <th>3</th>\n",
       "      <td>Sentence: 1_1</td>\n",
       "      <td>usr</td>\n",
       "      <td>NNP</td>\n",
       "      <td>O</td>\n",
       "    </tr>\n",
       "    <tr>\n",
       "      <th>4</th>\n",
       "      <td>Sentence: 1_1</td>\n",
       "      <td>sap</td>\n",
       "      <td>NNP</td>\n",
       "      <td>B-PROD</td>\n",
       "    </tr>\n",
       "    <tr>\n",
       "      <th>...</th>\n",
       "      <td>...</td>\n",
       "      <td>...</td>\n",
       "      <td>...</td>\n",
       "      <td>...</td>\n",
       "    </tr>\n",
       "    <tr>\n",
       "      <th>187123</th>\n",
       "      <td>Sentence: 23_261</td>\n",
       "      <td>policy</td>\n",
       "      <td>NN</td>\n",
       "      <td>O</td>\n",
       "    </tr>\n",
       "    <tr>\n",
       "      <th>187124</th>\n",
       "      <td>Sentence: 23_261</td>\n",
       "      <td>in</td>\n",
       "      <td>IN</td>\n",
       "      <td>O</td>\n",
       "    </tr>\n",
       "    <tr>\n",
       "      <th>187125</th>\n",
       "      <td>Sentence: 23_261</td>\n",
       "      <td>individual</td>\n",
       "      <td>JJ</td>\n",
       "      <td>O</td>\n",
       "    </tr>\n",
       "    <tr>\n",
       "      <th>187126</th>\n",
       "      <td>Sentence: 23_261</td>\n",
       "      <td>hana</td>\n",
       "      <td>NNP</td>\n",
       "      <td>B-PROD</td>\n",
       "    </tr>\n",
       "    <tr>\n",
       "      <th>187127</th>\n",
       "      <td>Sentence: 23_261</td>\n",
       "      <td>installations</td>\n",
       "      <td>NNS</td>\n",
       "      <td>O</td>\n",
       "    </tr>\n",
       "  </tbody>\n",
       "</table>\n",
       "<p>187128 rows × 4 columns</p>\n",
       "</div>"
      ],
      "text/plain": [
       "             ï»¿Sentence           Word  POS     Tag\n",
       "0          Sentence: 1_1            for   IN       O\n",
       "1          Sentence: 1_1        example   NN       O\n",
       "2          Sentence: 1_1              d  NNP       O\n",
       "3          Sentence: 1_1            usr  NNP       O\n",
       "4          Sentence: 1_1            sap  NNP  B-PROD\n",
       "...                  ...            ...  ...     ...\n",
       "187123  Sentence: 23_261         policy   NN       O\n",
       "187124  Sentence: 23_261             in   IN       O\n",
       "187125  Sentence: 23_261     individual   JJ       O\n",
       "187126  Sentence: 23_261           hana  NNP  B-PROD\n",
       "187127  Sentence: 23_261  installations  NNS       O\n",
       "\n",
       "[187128 rows x 4 columns]"
      ]
     },
     "execution_count": 2,
     "metadata": {},
     "output_type": "execute_result"
    }
   ],
   "source": [
    "BASE_FOLDER = 'training-datasets/'\n",
    "filename = 'scw_01_23_da.csv'\n",
    "\n",
    "data_df = pd.read_csv(filename,sep=\",\",encoding=\"latin1\").fillna(method='ffill')   \n",
    "data_df"
   ]
  },
  {
   "cell_type": "code",
   "execution_count": 3,
   "metadata": {},
   "outputs": [
    {
     "data": {
      "text/plain": [
       "[['Sentence: 1_1', 'for', 'IN', 'O'],\n",
       " ['Sentence: 1_1', 'example', 'NN', 'O'],\n",
       " ['Sentence: 1_1', 'd', 'NNP', 'O'],\n",
       " ['Sentence: 1_1', 'usr', 'NNP', 'O'],\n",
       " ['Sentence: 1_1', 'sap', 'NNP', 'B-PROD']]"
      ]
     },
     "execution_count": 3,
     "metadata": {},
     "output_type": "execute_result"
    }
   ],
   "source": [
    "data = data_df.values.tolist()\n",
    "data[:5]"
   ]
  },
  {
   "cell_type": "code",
   "execution_count": null,
   "metadata": {},
   "outputs": [],
   "source": [
    "data2 = []\n",
    "sentence = [] \n",
    "sent_prev_row = '24_1'  # this is the first sentence in the file\n",
    "any_b_annot = ''\n",
    "\n",
    "for i in data:\n",
    "    if i[0] != sent_prev_row:\n",
    "        if any_b_annot == 'yes':\n",
    "            data2.append(sentence)\n",
    "        \n",
    "        sent_prev_row = i[0]  \n",
    "        sentence = []\n",
    "        if i[3] == 'B-PROD'or i[3] == 'I-PROD':\n",
    "            any_b_annot = 'yes'\n",
    "        sentence.append(i)\n",
    "        \n",
    "    else:\n",
    "        if i[3] == 'B-PROD'or i[3] == 'I-PROD':\n",
    "            any_b_annot = 'yes'\n",
    "        sentence.append(i)\n",
    "        \n",
    "if any_b_annot == 'yes':\n",
    "    data2.append(sentence)\n",
    "\n",
    "data_final = []\n",
    "\n",
    "for sent in data2:\n",
    "    for tkn in sent:\n",
    "        data_final.append(tkn)\n",
    "    \n",
    "data_final"
   ]
  },
  {
   "cell_type": "code",
   "execution_count": 5,
   "metadata": {},
   "outputs": [],
   "source": [
    "# SAVE TO .CSV\n",
    "\n",
    "# a) converto list to df:\n",
    "data_final_df = pd.DataFrame(data_final)\n",
    "\n",
    "# b) Save to file:\n",
    "file_path_to_s = 'scw_sup_annot_1-23_v3.csv'\n",
    "data_final_df.to_csv(file_path_to_s, sep=',',index=False)"
   ]
  },
  {
   "cell_type": "code",
   "execution_count": null,
   "metadata": {},
   "outputs": [],
   "source": []
  }
 ],
 "metadata": {
  "instance_type": "ml.t3.medium",
  "kernelspec": {
   "display_name": "Python 3 (Data Science)",
   "language": "python",
   "name": "python3__SAGEMAKER_INTERNAL__arn:aws:sagemaker:eu-west-1:470317259841:image/datascience-1.0"
  },
  "language_info": {
   "codemirror_mode": {
    "name": "ipython",
    "version": 3
   },
   "file_extension": ".py",
   "mimetype": "text/x-python",
   "name": "python",
   "nbconvert_exporter": "python",
   "pygments_lexer": "ipython3",
   "version": "3.7.6"
  }
 },
 "nbformat": 4,
 "nbformat_minor": 4
}
