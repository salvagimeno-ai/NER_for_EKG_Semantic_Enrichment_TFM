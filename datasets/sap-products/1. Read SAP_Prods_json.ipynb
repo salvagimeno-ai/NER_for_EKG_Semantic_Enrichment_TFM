{
 "cells": [
  {
   "cell_type": "code",
   "execution_count": 1,
   "metadata": {},
   "outputs": [],
   "source": [
    "import numpy as np \n",
    "import pandas as pd\n",
    "import json"
   ]
  },
  {
   "cell_type": "code",
   "execution_count": 2,
   "metadata": {},
   "outputs": [],
   "source": [
    "def string_remove_punctuation(string):\n",
    "    string = string.replace(':','')\n",
    "    string = string.replace(\"'\",'')\n",
    "    string = string.replace('.','')\n",
    "    string = string.replace(',','')\n",
    "    string = string.replace('  ',' ')\n",
    "    string = string.replace('(','')\n",
    "    string = string.replace(')','')\n",
    "    \n",
    "    return string"
   ]
  },
  {
   "cell_type": "code",
   "execution_count": null,
   "metadata": {},
   "outputs": [],
   "source": [
    "# CODE TO UNDERSTAND THE JSON STRUCTURE\n",
    "f = open('SAPproducts.json',) \n",
    "  \n",
    "# returns JSON object as  \n",
    "# a dictionary \n",
    "data = json.load(f) \n",
    "  \n",
    "# Iterating through the json \n",
    "# list \n",
    "for i in data['P']: \n",
    "#     print(i)\n",
    "    product = i['product']\n",
    "    print(product['officialName'].lower())"
   ]
  },
  {
   "cell_type": "code",
   "execution_count": 15,
   "metadata": {},
   "outputs": [],
   "source": [
    "import json \n",
    "\n",
    "prod_pnr = []\n",
    "prod_name = []\n",
    "prod_officialname = []\n",
    "prod_technicalName = []\n",
    "prod_full = []\n",
    "  \n",
    "#  Opening JSON file \n",
    "f = open('SAPproducts.json',) \n",
    "  \n",
    "# returns JSON object as  \n",
    "# a dictionary \n",
    "data = json.load(f) \n",
    "  \n",
    "# Iterating through the json \n",
    "# list \n",
    "for i in data['P']: \n",
    "#     print(i)\n",
    "    product = i['product']\n",
    "    # print(product)\n",
    "    i_prod_pnr = product['pnr'].lower(); \n",
    "    prod_pnr.append(i_prod_pnr)\n",
    "    \n",
    "    i_prod_name = product['name'].lower(); \n",
    "    i_prod_name = string_remove_punctuation(i_prod_name);\n",
    "    prod_name.append(i_prod_name)\n",
    "    \n",
    "    i_officialName = product['officialName'].lower(); \n",
    "    i_officialName = string_remove_punctuation(i_officialName);\n",
    "    prod_officialname.append(i_officialName)\n",
    "    \n",
    "    i_technicalName = product['technicalName'].lower(); \n",
    "    i_technicalName = string_remove_punctuation(i_technicalName);\n",
    "    prod_technicalName.append(i_technicalName)\n",
    "    \n",
    "    prod_full.append(i_prod_name)\n",
    "    if not i_officialName in prod_full and not i_officialName == '':\n",
    "        prod_full.append(i_officialName)\n",
    "    if not i_technicalName in prod_full and not i_technicalName == '':\n",
    "        prod_full.append(i_technicalName)\n",
    "    \n",
    "    \n",
    "f.close() "
   ]
  },
  {
   "cell_type": "code",
   "execution_count": 16,
   "metadata": {},
   "outputs": [],
   "source": [
    "# Sort & Remove duplicates\n",
    "prod_name = sorted(set(prod_name))\n",
    "prod_officialname = sorted(set(prod_officialname))\n",
    "prod_technicalName = sorted(set(prod_technicalName))\n",
    "prod_full = sorted(set(prod_full))"
   ]
  },
  {
   "cell_type": "code",
   "execution_count": 17,
   "metadata": {},
   "outputs": [
    {
     "name": "stdout",
     "output_type": "stream",
     "text": [
      "5713\n",
      "5713\n",
      "3132\n",
      "5713\n",
      "10363\n"
     ]
    }
   ],
   "source": [
    "print(len(prod_pnr)); print(len(prod_name)); print(len(prod_officialname)); print(len(prod_technicalName));\n",
    "print(len(prod_full))"
   ]
  },
  {
   "cell_type": "code",
   "execution_count": 18,
   "metadata": {},
   "outputs": [
    {
     "name": "stdout",
     "output_type": "stream",
     "text": [
      "1858\n"
     ]
    }
   ],
   "source": [
    "# GENERATE LIST WITH PRODUCT_NAMES with 'SAP' prefix\n",
    "prod_name_sap = []\n",
    "\n",
    "for i in prod_name:\n",
    "    if i[:3] == 'sap':\n",
    "        prod_name_sap.append(i)\n",
    "        \n",
    "print(len(prod_name_sap))"
   ]
  },
  {
   "cell_type": "code",
   "execution_count": null,
   "metadata": {},
   "outputs": [],
   "source": [
    "print(len(prod_name_sap))\n",
    "prod_name_sap"
   ]
  },
  {
   "cell_type": "code",
   "execution_count": 19,
   "metadata": {},
   "outputs": [
    {
     "name": "stdout",
     "output_type": "stream",
     "text": [
      "4537\n"
     ]
    }
   ],
   "source": [
    "# GENERATE LIST WITH UNIQUE_PRODUCT_NAMES with 'SAP' prefix\n",
    "prod_full_sap = []\n",
    "\n",
    "for i in prod_full:\n",
    "    if i[:3] == 'sap':\n",
    "        prod_full_sap.append(i)\n",
    "        \n",
    "print(len(prod_full_sap))"
   ]
  },
  {
   "cell_type": "code",
   "execution_count": null,
   "metadata": {},
   "outputs": [],
   "source": [
    "print(len(prod_full_sap))\n",
    "prod_full_sap"
   ]
  },
  {
   "cell_type": "markdown",
   "metadata": {},
   "source": [
    "# SAVE PRODUCT LIST TO LOCAL FILES"
   ]
  },
  {
   "cell_type": "code",
   "execution_count": null,
   "metadata": {},
   "outputs": [],
   "source": [
    "lists_to_save_to_file = [prod_full_sap, prod_name_sap]\n",
    "\n",
    "for list_ in lists_to_save_to_file:\n",
    "\n",
    "    df = pd.DataFrame(list_)\n",
    "\n",
    "    df.to_csv(list_+'.csv', index=False)"
   ]
  },
  {
   "cell_type": "code",
   "execution_count": 23,
   "metadata": {},
   "outputs": [],
   "source": [
    "# save to local file\n",
    "df = pd.DataFrame(prod_full_sap)\n",
    "df.to_csv('prod_full_sap.csv', index=False)"
   ]
  },
  {
   "cell_type": "code",
   "execution_count": 24,
   "metadata": {},
   "outputs": [],
   "source": [
    "# save to local file\n",
    "df = pd.DataFrame(prod_name_sap)\n",
    "df.to_csv('prod_name_sap.csv', index=False)"
   ]
  },
  {
   "cell_type": "code",
   "execution_count": null,
   "metadata": {},
   "outputs": [],
   "source": []
  }
 ],
 "metadata": {
  "instance_type": "ml.t3.medium",
  "kernelspec": {
   "display_name": "Python 3 (Data Science)",
   "language": "python",
   "name": "python3__SAGEMAKER_INTERNAL__arn:aws:sagemaker:eu-west-1:470317259841:image/datascience-1.0"
  },
  "language_info": {
   "codemirror_mode": {
    "name": "ipython",
    "version": 3
   },
   "file_extension": ".py",
   "mimetype": "text/x-python",
   "name": "python",
   "nbconvert_exporter": "python",
   "pygments_lexer": "ipython3",
   "version": "3.7.10"
  }
 },
 "nbformat": 4,
 "nbformat_minor": 4
}
